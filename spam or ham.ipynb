{
 "cells": [
  {
   "cell_type": "markdown",
   "id": "2ef3f948-a23f-4e93-b117-2f4a335539ff",
   "metadata": {},
   "source": [
    "### Introduction\n",
    "##### problem: classifying emails as spam or ham(non-spam).\n",
    "##### Objective: Develop a machine learning model to accurately classify emails.\n",
    "##### Importance: Effective email filtering is crucial for maintaining inbox cleanliness and security.\n"
   ]
  },
  {
   "cell_type": "markdown",
   "id": "70b31b61-a955-4996-b197-12bee302c3a0",
   "metadata": {},
   "source": [
    "### Importing Dependencies"
   ]
  },
  {
   "cell_type": "code",
   "execution_count": 32,
   "id": "540b5697-77a1-48f3-b1e0-bb82c5e52b74",
   "metadata": {},
   "outputs": [],
   "source": [
    "import numpy as np\n",
    "import pandas as pd\n",
    "from sklearn.preprocessing import LabelEncoder\n",
    "from sklearn.model_selection import train_test_split\n",
    "from sklearn.feature_extraction.text import TfidfVectorizer\n",
    "from sklearn.metrics import accuracy_score"
   ]
  },
  {
   "cell_type": "markdown",
   "id": "76abee17-6b74-4ccc-9892-bfc7b02ee35b",
   "metadata": {},
   "source": [
    "### Data Collection and Preprocessing"
   ]
  },
  {
   "cell_type": "code",
   "execution_count": 33,
   "id": "630cbb53-f388-4da9-998d-795a34d242d7",
   "metadata": {},
   "outputs": [],
   "source": [
    "# read data from a csv file and create a dataframe object\n",
    "data= pd.read_csv(r\"C:\\Users\\PHOENIX\\OneDrive\\Desktop\\ML projects\\mail_data.csv\")"
   ]
  },
  {
   "cell_type": "code",
   "execution_count": 34,
   "id": "725aa9c5-d172-4006-b317-6372b1d29046",
   "metadata": {},
   "outputs": [
    {
     "data": {
      "text/html": [
       "<div>\n",
       "<style scoped>\n",
       "    .dataframe tbody tr th:only-of-type {\n",
       "        vertical-align: middle;\n",
       "    }\n",
       "\n",
       "    .dataframe tbody tr th {\n",
       "        vertical-align: top;\n",
       "    }\n",
       "\n",
       "    .dataframe thead th {\n",
       "        text-align: right;\n",
       "    }\n",
       "</style>\n",
       "<table border=\"1\" class=\"dataframe\">\n",
       "  <thead>\n",
       "    <tr style=\"text-align: right;\">\n",
       "      <th></th>\n",
       "      <th>Category</th>\n",
       "      <th>Message</th>\n",
       "    </tr>\n",
       "  </thead>\n",
       "  <tbody>\n",
       "    <tr>\n",
       "      <th>0</th>\n",
       "      <td>ham</td>\n",
       "      <td>Go until jurong point, crazy.. Available only ...</td>\n",
       "    </tr>\n",
       "    <tr>\n",
       "      <th>1</th>\n",
       "      <td>ham</td>\n",
       "      <td>Ok lar... Joking wif u oni...</td>\n",
       "    </tr>\n",
       "    <tr>\n",
       "      <th>2</th>\n",
       "      <td>spam</td>\n",
       "      <td>Free entry in 2 a wkly comp to win FA Cup fina...</td>\n",
       "    </tr>\n",
       "    <tr>\n",
       "      <th>3</th>\n",
       "      <td>ham</td>\n",
       "      <td>U dun say so early hor... U c already then say...</td>\n",
       "    </tr>\n",
       "    <tr>\n",
       "      <th>4</th>\n",
       "      <td>ham</td>\n",
       "      <td>Nah I don't think he goes to usf, he lives aro...</td>\n",
       "    </tr>\n",
       "  </tbody>\n",
       "</table>\n",
       "</div>"
      ],
      "text/plain": [
       "  Category                                            Message\n",
       "0      ham  Go until jurong point, crazy.. Available only ...\n",
       "1      ham                      Ok lar... Joking wif u oni...\n",
       "2     spam  Free entry in 2 a wkly comp to win FA Cup fina...\n",
       "3      ham  U dun say so early hor... U c already then say...\n",
       "4      ham  Nah I don't think he goes to usf, he lives aro..."
      ]
     },
     "execution_count": 34,
     "metadata": {},
     "output_type": "execute_result"
    }
   ],
   "source": [
    "# to display the first few rows of a dataframe\n",
    "data.head()"
   ]
  },
  {
   "cell_type": "code",
   "execution_count": 35,
   "id": "fc10c76e-2df4-4766-880d-6505ffc78fe5",
   "metadata": {},
   "outputs": [
    {
     "data": {
      "text/plain": [
       "Category    0\n",
       "Message     0\n",
       "dtype: int64"
      ]
     },
     "execution_count": 35,
     "metadata": {},
     "output_type": "execute_result"
    }
   ],
   "source": [
    "# sumof missing values(NANs) in each column of a dataframe\n",
    "data.isnull().sum()"
   ]
  },
  {
   "cell_type": "markdown",
   "id": "a9417113-9e7b-49f9-9c4d-70b1045aacec",
   "metadata": {},
   "source": [
    "### Label Encoding"
   ]
  },
  {
   "cell_type": "code",
   "execution_count": 36,
   "id": "3857bb24-b3e0-4997-a9e8-fd1fba3a4a50",
   "metadata": {},
   "outputs": [],
   "source": [
    "# encoding the categorical variables into numerical format\n",
    "label= LabelEncoder()"
   ]
  },
  {
   "cell_type": "code",
   "execution_count": 37,
   "id": "c919fa45-fbfb-4a8b-ba47-7fadd0856d71",
   "metadata": {},
   "outputs": [],
   "source": [
    "#which is used to both fit the encoder to the data and transform the categorical variables into numerical labels simultaneously\n",
    "label_encoding= label.fit_transform(data[\"Category\"])"
   ]
  },
  {
   "cell_type": "code",
   "execution_count": 61,
   "id": "9b9603e2-e19c-452b-a620-fcc1cdb82296",
   "metadata": {},
   "outputs": [
    {
     "data": {
      "text/plain": [
       "array([0, 0, 1, ..., 0, 0, 0])"
      ]
     },
     "execution_count": 61,
     "metadata": {},
     "output_type": "execute_result"
    }
   ],
   "source": [
    "#0 is for ham\n",
    "#1 is for spam\n",
    "label_encoding"
   ]
  },
  {
   "cell_type": "code",
   "execution_count": 39,
   "id": "e95ac37c-e843-4139-935a-df27885f3834",
   "metadata": {},
   "outputs": [],
   "source": [
    "# seperating the data as texts and label\n",
    "x=data[\"Message\"]\n",
    "y=label_encoding"
   ]
  },
  {
   "cell_type": "markdown",
   "id": "a73bddb8-8933-4908-bd68-e3cff1e7909c",
   "metadata": {},
   "source": [
    "### Splitting data into training data and testing data"
   ]
  },
  {
   "cell_type": "code",
   "execution_count": 40,
   "id": "1c5890e1-fc50-42a9-94cc-9095e11913c8",
   "metadata": {},
   "outputs": [],
   "source": [
    "# splitting datasets into training and testing sets for machine learning model training and evaluation\n",
    "x_train,x_test,y_train,y_test= train_test_split(x,y,test_size=0.2,random_state=3,stratify=y)"
   ]
  },
  {
   "cell_type": "code",
   "execution_count": 41,
   "id": "2a4dbcac-04ac-40e9-9301-c2d1d94bda97",
   "metadata": {},
   "outputs": [
    {
     "name": "stdout",
     "output_type": "stream",
     "text": [
      "(5572,) (4457,) (1115,)\n"
     ]
    }
   ],
   "source": [
    "print(x.shape,x_train.shape,x_test.shape)"
   ]
  },
  {
   "cell_type": "markdown",
   "id": "f2db8762-052c-49a4-a296-9d44dd948612",
   "metadata": {},
   "source": [
    "### Feature extraction"
   ]
  },
  {
   "cell_type": "code",
   "execution_count": 44,
   "id": "ca7defac-498d-40e4-9edc-fa71f4c5cebf",
   "metadata": {},
   "outputs": [],
   "source": [
    "# transform the text data to feature vectors that can be used as input to the logistic regression\n",
    "feature_extraction= TfidfVectorizer(min_df=1,stop_words=\"english\",lowercase=True)"
   ]
  },
  {
   "cell_type": "code",
   "execution_count": 45,
   "id": "93ccbae1-e487-43d4-baae-441252071b5a",
   "metadata": {},
   "outputs": [],
   "source": [
    "# transform the text data to feature vectors that can be used as input to the logistic regression\n",
    "feature_extraction= TfidfVectorizer(stop_words=\"english\")"
   ]
  },
  {
   "cell_type": "code",
   "execution_count": 46,
   "id": "ee509817-1e2d-42ab-9c78-fc8aa9c5fd41",
   "metadata": {},
   "outputs": [],
   "source": [
    "feature_xtrain= feature_extraction.fit_transform(x_train)\n",
    "feature_xtest= feature_extraction.transform(x_test)"
   ]
  },
  {
   "cell_type": "code",
   "execution_count": 47,
   "id": "33991585-61fa-4618-a0f7-80b65dec1855",
   "metadata": {},
   "outputs": [
    {
     "name": "stdout",
     "output_type": "stream",
     "text": [
      "2020               From tomorrow onwards eve 6 to 3 work.\n",
      "3453                             Ugh just got outta class\n",
      "3364                                   Can... I'm free...\n",
      "2597    No i'm not gonna be able to. || too late notic...\n",
      "5491    U studying in sch or going home? Anyway i'll b...\n",
      "                              ...                        \n",
      "3775                                Ok... But bag again..\n",
      "5519    Can you pls send me that company name. In saib...\n",
      "2832                           Thanx 4 sending me home...\n",
      "2724    Tunde, how are you doing. This is just wishing...\n",
      "4714    Big brother‘s really scraped the barrel with t...\n",
      "Name: Message, Length: 4457, dtype: object\n"
     ]
    }
   ],
   "source": [
    "print(x_train)"
   ]
  },
  {
   "cell_type": "code",
   "execution_count": 48,
   "id": "a9f0f891-ec37-4f0a-bc34-2b84e42a426a",
   "metadata": {},
   "outputs": [
    {
     "name": "stdout",
     "output_type": "stream",
     "text": [
      "  (0, 7329)\t0.39151450331197035\n",
      "  (0, 2596)\t0.5157331716075019\n",
      "  (0, 4795)\t0.6459507464707183\n",
      "  (0, 6736)\t0.40433070936297943\n",
      "  (1, 1793)\t0.43486660333673016\n",
      "  (1, 4861)\t0.596185515774092\n",
      "  (1, 3112)\t0.31103507183699425\n",
      "  (1, 3758)\t0.2826422333927384\n",
      "  (1, 6887)\t0.528038275197618\n",
      "  (2, 2903)\t1.0\n",
      "  (3, 5081)\t0.4169087023760639\n",
      "  (3, 7198)\t0.3971508483254661\n",
      "  (3, 3373)\t0.26859638268284747\n",
      "  (3, 4040)\t0.24099748417300504\n",
      "  (3, 4692)\t0.43001182720880177\n",
      "  (3, 3909)\t0.3260348921371232\n",
      "  (3, 758)\t0.37620667903348365\n",
      "  (3, 3092)\t0.32479862316475455\n",
      "  (4, 3911)\t0.2511783165875194\n",
      "  (4, 3082)\t0.4766800108257892\n",
      "  (4, 5766)\t0.6833422922401592\n",
      "  (4, 6339)\t0.37251069778964124\n",
      "  (4, 3373)\t0.23999265394731062\n",
      "  (4, 4040)\t0.21533285461106833\n",
      "  (5, 4413)\t0.4460096390714086\n",
      "  :\t:\n",
      "  (4452, 1180)\t0.8777703340143531\n",
      "  (4452, 4770)\t0.4790816639408472\n",
      "  (4453, 1853)\t0.5659242420057378\n",
      "  (4453, 5704)\t0.5659242420057378\n",
      "  (4453, 1891)\t0.4268643677817285\n",
      "  (4453, 5098)\t0.31370317391845537\n",
      "  (4453, 5831)\t0.2807786224274476\n",
      "  (4454, 5833)\t0.668707465290152\n",
      "  (4454, 6603)\t0.5977559366046024\n",
      "  (4454, 3373)\t0.4421743616710208\n",
      "  (4455, 6850)\t0.5422188287349213\n",
      "  (4455, 756)\t0.43066855590150493\n",
      "  (4455, 7284)\t0.448578891648247\n",
      "  (4455, 3146)\t0.30522594737369896\n",
      "  (4455, 2355)\t0.3191182830680886\n",
      "  (4455, 2144)\t0.26138447718998253\n",
      "  (4455, 3758)\t0.2365990537519021\n",
      "  (4456, 4379)\t0.4142730040541301\n",
      "  (4456, 1212)\t0.4142730040541301\n",
      "  (4456, 5780)\t0.4142730040541301\n",
      "  (4456, 6091)\t0.3706880832372446\n",
      "  (4456, 1316)\t0.2809264187699016\n",
      "  (4456, 5446)\t0.24868192214072907\n",
      "  (4456, 1495)\t0.309758295033515\n",
      "  (4456, 5940)\t0.3331837732802091\n"
     ]
    }
   ],
   "source": [
    "print(feature_xtrain)"
   ]
  },
  {
   "cell_type": "markdown",
   "id": "a05d8c69-5f01-453c-8740-b0f8240eb0d4",
   "metadata": {},
   "source": [
    "### Training the model\n",
    "#### Logistic regression"
   ]
  },
  {
   "cell_type": "code",
   "execution_count": 49,
   "id": "801deabb-4ec0-4f45-9b5a-e0ebd97cd44e",
   "metadata": {},
   "outputs": [
    {
     "data": {
      "application/javascript": [
       "\n",
       "        if (window._pyforest_update_imports_cell) { window._pyforest_update_imports_cell('from sklearn.linear_model import LogisticRegression'); }\n",
       "    "
      ],
      "text/plain": [
       "<IPython.core.display.Javascript object>"
      ]
     },
     "metadata": {},
     "output_type": "display_data"
    }
   ],
   "source": [
    "# Logistic Regression is a statistical method used for binary classification problems\n",
    "model= LogisticRegression()"
   ]
  },
  {
   "cell_type": "code",
   "execution_count": 50,
   "id": "6c7b42b1-16e3-48fd-bbb3-e1d10e07ff8b",
   "metadata": {},
   "outputs": [
    {
     "data": {
      "text/html": [
       "<style>#sk-container-id-1 {color: black;}#sk-container-id-1 pre{padding: 0;}#sk-container-id-1 div.sk-toggleable {background-color: white;}#sk-container-id-1 label.sk-toggleable__label {cursor: pointer;display: block;width: 100%;margin-bottom: 0;padding: 0.3em;box-sizing: border-box;text-align: center;}#sk-container-id-1 label.sk-toggleable__label-arrow:before {content: \"▸\";float: left;margin-right: 0.25em;color: #696969;}#sk-container-id-1 label.sk-toggleable__label-arrow:hover:before {color: black;}#sk-container-id-1 div.sk-estimator:hover label.sk-toggleable__label-arrow:before {color: black;}#sk-container-id-1 div.sk-toggleable__content {max-height: 0;max-width: 0;overflow: hidden;text-align: left;background-color: #f0f8ff;}#sk-container-id-1 div.sk-toggleable__content pre {margin: 0.2em;color: black;border-radius: 0.25em;background-color: #f0f8ff;}#sk-container-id-1 input.sk-toggleable__control:checked~div.sk-toggleable__content {max-height: 200px;max-width: 100%;overflow: auto;}#sk-container-id-1 input.sk-toggleable__control:checked~label.sk-toggleable__label-arrow:before {content: \"▾\";}#sk-container-id-1 div.sk-estimator input.sk-toggleable__control:checked~label.sk-toggleable__label {background-color: #d4ebff;}#sk-container-id-1 div.sk-label input.sk-toggleable__control:checked~label.sk-toggleable__label {background-color: #d4ebff;}#sk-container-id-1 input.sk-hidden--visually {border: 0;clip: rect(1px 1px 1px 1px);clip: rect(1px, 1px, 1px, 1px);height: 1px;margin: -1px;overflow: hidden;padding: 0;position: absolute;width: 1px;}#sk-container-id-1 div.sk-estimator {font-family: monospace;background-color: #f0f8ff;border: 1px dotted black;border-radius: 0.25em;box-sizing: border-box;margin-bottom: 0.5em;}#sk-container-id-1 div.sk-estimator:hover {background-color: #d4ebff;}#sk-container-id-1 div.sk-parallel-item::after {content: \"\";width: 100%;border-bottom: 1px solid gray;flex-grow: 1;}#sk-container-id-1 div.sk-label:hover label.sk-toggleable__label {background-color: #d4ebff;}#sk-container-id-1 div.sk-serial::before {content: \"\";position: absolute;border-left: 1px solid gray;box-sizing: border-box;top: 0;bottom: 0;left: 50%;z-index: 0;}#sk-container-id-1 div.sk-serial {display: flex;flex-direction: column;align-items: center;background-color: white;padding-right: 0.2em;padding-left: 0.2em;position: relative;}#sk-container-id-1 div.sk-item {position: relative;z-index: 1;}#sk-container-id-1 div.sk-parallel {display: flex;align-items: stretch;justify-content: center;background-color: white;position: relative;}#sk-container-id-1 div.sk-item::before, #sk-container-id-1 div.sk-parallel-item::before {content: \"\";position: absolute;border-left: 1px solid gray;box-sizing: border-box;top: 0;bottom: 0;left: 50%;z-index: -1;}#sk-container-id-1 div.sk-parallel-item {display: flex;flex-direction: column;z-index: 1;position: relative;background-color: white;}#sk-container-id-1 div.sk-parallel-item:first-child::after {align-self: flex-end;width: 50%;}#sk-container-id-1 div.sk-parallel-item:last-child::after {align-self: flex-start;width: 50%;}#sk-container-id-1 div.sk-parallel-item:only-child::after {width: 0;}#sk-container-id-1 div.sk-dashed-wrapped {border: 1px dashed gray;margin: 0 0.4em 0.5em 0.4em;box-sizing: border-box;padding-bottom: 0.4em;background-color: white;}#sk-container-id-1 div.sk-label label {font-family: monospace;font-weight: bold;display: inline-block;line-height: 1.2em;}#sk-container-id-1 div.sk-label-container {text-align: center;}#sk-container-id-1 div.sk-container {/* jupyter's `normalize.less` sets `[hidden] { display: none; }` but bootstrap.min.css set `[hidden] { display: none !important; }` so we also need the `!important` here to be able to override the default hidden behavior on the sphinx rendered scikit-learn.org. See: https://github.com/scikit-learn/scikit-learn/issues/21755 */display: inline-block !important;position: relative;}#sk-container-id-1 div.sk-text-repr-fallback {display: none;}</style><div id=\"sk-container-id-1\" class=\"sk-top-container\"><div class=\"sk-text-repr-fallback\"><pre>LogisticRegression()</pre><b>In a Jupyter environment, please rerun this cell to show the HTML representation or trust the notebook. <br />On GitHub, the HTML representation is unable to render, please try loading this page with nbviewer.org.</b></div><div class=\"sk-container\" hidden><div class=\"sk-item\"><div class=\"sk-estimator sk-toggleable\"><input class=\"sk-toggleable__control sk-hidden--visually\" id=\"sk-estimator-id-1\" type=\"checkbox\" checked><label for=\"sk-estimator-id-1\" class=\"sk-toggleable__label sk-toggleable__label-arrow\">LogisticRegression</label><div class=\"sk-toggleable__content\"><pre>LogisticRegression()</pre></div></div></div></div></div>"
      ],
      "text/plain": [
       "LogisticRegression()"
      ]
     },
     "execution_count": 50,
     "metadata": {},
     "output_type": "execute_result"
    }
   ],
   "source": [
    "# training the logistic regression model with the training data\n",
    "model.fit(feature_xtrain,y_train)"
   ]
  },
  {
   "cell_type": "markdown",
   "id": "d6dc2d32-a83f-4a1c-b394-ad4a63f74931",
   "metadata": {},
   "source": [
    "### Evaluating the trained model"
   ]
  },
  {
   "cell_type": "code",
   "execution_count": 57,
   "id": "ea2eb0bd-16b1-4fd9-9db4-ba7770858259",
   "metadata": {},
   "outputs": [],
   "source": [
    "# prediction on training data\n",
    "xtrain_predict= model.predict(feature_xtrain)"
   ]
  },
  {
   "cell_type": "code",
   "execution_count": 58,
   "id": "24d40694-ff9c-4f20-ac0e-ce45bb2dd743",
   "metadata": {},
   "outputs": [
    {
     "data": {
      "text/plain": [
       "0.9681400044873233"
      ]
     },
     "execution_count": 58,
     "metadata": {},
     "output_type": "execute_result"
    }
   ],
   "source": [
    "accuracy_score(y_train,train_predict)"
   ]
  },
  {
   "cell_type": "code",
   "execution_count": 59,
   "id": "8f55db08-9515-414f-8656-bad690222b4e",
   "metadata": {},
   "outputs": [],
   "source": [
    "# prediction on test data\n",
    "xtest_predict= model.predict(feature_xtest)"
   ]
  },
  {
   "cell_type": "code",
   "execution_count": 60,
   "id": "0cfd7510-e19c-437a-801f-71e665ab3ada",
   "metadata": {},
   "outputs": [
    {
     "data": {
      "text/plain": [
       "0.9641255605381166"
      ]
     },
     "execution_count": 60,
     "metadata": {},
     "output_type": "execute_result"
    }
   ],
   "source": [
    "accuracy_score(y_test,test_predict)"
   ]
  },
  {
   "cell_type": "markdown",
   "id": "70fcf150-9c58-4100-b60e-cdf7e2378c4c",
   "metadata": {},
   "source": [
    "### Building a predictive system"
   ]
  },
  {
   "cell_type": "code",
   "execution_count": 56,
   "id": "33befcd4-790a-442a-ab21-b98e8a9af901",
   "metadata": {},
   "outputs": [
    {
     "name": "stdout",
     "output_type": "stream",
     "text": [
      "[0]\n",
      "Ham mail\n"
     ]
    }
   ],
   "source": [
    "input_data= [\" Nah I don't think he goes to usf, he lives around here though\" ]\n",
    "# converting a text into feature vectors\n",
    "feature= feature_extraction.transform(input_data)\n",
    "# making prediction\n",
    "prediction= model.predict(feature)\n",
    "print(prediction)\n",
    "if (prediction[0]==0):\n",
    "    print(\"Ham mail\")\n",
    "else:\n",
    "    print(\"Spam mail\")"
   ]
  },
  {
   "cell_type": "code",
   "execution_count": null,
   "id": "f1414195-4166-46de-a805-d6a75949c529",
   "metadata": {},
   "outputs": [],
   "source": []
  },
  {
   "cell_type": "code",
   "execution_count": null,
   "id": "1f4633e5-48ed-4d13-bac3-a597b67d5930",
   "metadata": {},
   "outputs": [],
   "source": []
  }
 ],
 "metadata": {
  "kernelspec": {
   "display_name": "Python 3 (ipykernel)",
   "language": "python",
   "name": "python3"
  },
  "language_info": {
   "codemirror_mode": {
    "name": "ipython",
    "version": 3
   },
   "file_extension": ".py",
   "mimetype": "text/x-python",
   "name": "python",
   "nbconvert_exporter": "python",
   "pygments_lexer": "ipython3",
   "version": "3.12.0"
  }
 },
 "nbformat": 4,
 "nbformat_minor": 5
}
